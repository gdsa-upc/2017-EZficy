{
 "cells": [
  {
   "cell_type": "code",
   "execution_count": 2,
   "metadata": {
    "collapsed": true
   },
   "outputs": [],
   "source": [
    "import os\n",
    "from params import get_params\n",
    "\n",
    "def build_database(params):\n",
    "\n",
    "    # List images\n",
    "    image_names = os.listdir(os.path.join(params['root'],\n",
    "                             params['database'],params['split'],'images'))\n",
    "\n",
    "    # File to be saved\n",
    "    file = open(os.path.join(params['root'],params['root_save'],\n",
    "                             params['image_lists'],\n",
    "                             params['split'] + '.txt'),'w')\n",
    "\n",
    "    # Save image list to disk\n",
    "    for imname in image_names:\n",
    "        file.write(imname + \"\\n\")\n",
    "    file.close()\n",
    "\n",
    "if __name__==\"__main__\":\n",
    "\n",
    "    params = get_params()\n",
    "\n",
    "    for split in ['train','val','test']:\n",
    "        params['split'] = split\n",
    "        build_database(params)"
   ]
  },
  {
   "cell_type": "code",
   "execution_count": null,
   "metadata": {
    "collapsed": true
   },
   "outputs": [],
   "source": []
  }
 ],
 "metadata": {
  "kernelspec": {
   "display_name": "Python 2",
   "language": "python",
   "name": "python2"
  },
  "language_info": {
   "codemirror_mode": {
    "name": "ipython",
    "version": 2
   },
   "file_extension": ".py",
   "mimetype": "text/x-python",
   "name": "python",
   "nbconvert_exporter": "python",
   "pygments_lexer": "ipython2",
   "version": "2.7.13"
  }
 },
 "nbformat": 4,
 "nbformat_minor": 2
}
