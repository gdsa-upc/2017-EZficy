{
 "cells": [
  {
   "cell_type": "heading",
   "metadata": {
    "collapsed": true
   },
   "level": 1,
   "source": [
    "First implementation of SIFT feature extraction"
   ]
  },
  {
   "cell_type": "code",
   "execution_count": null,
   "metadata": {},
   "outputs": [],
   "source": [
    "import cv2  # OpenCV 2 is used in this script.\n",
    "\n",
    "img = cv2.imread('curl.jpg', 1)              # An image is read and saved into img variable.\n",
    "gray = cv2.cvtColor(img, cv2.COLOR_BGR2GRAY) # The image is converted from color to grayscale.\n",
    "\n",
    "sift = cv2.SIFT()                            # A new SIFT extractor object is created.\n",
    "kp, des = sift.detectAndCompute(gray, None)  # The features are stored in a tuple.\n"
   ]
  },
  {
   "cell_type": "code",
   "execution_count": null,
   "metadata": {},
   "outputs": [],
   "source": [
    ""
   ]
  }
 ],
 "metadata": {
  "kernelspec": {
   "display_name": "Python 2",
   "language": "python",
   "name": "python2"
  },
  "language_info": {
   "codemirror_mode": {
    "name": "ipython",
    "version": 2.0
   },
   "file_extension": ".py",
   "mimetype": "text/x-python",
   "name": "python",
   "nbconvert_exporter": "python",
   "pygments_lexer": "ipython2",
   "version": "2.7.6"
  }
 },
 "nbformat": 4,
 "nbformat_minor": 0
}