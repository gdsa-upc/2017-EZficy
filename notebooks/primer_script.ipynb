{
 "cells": [
  {
   "cell_type": "code",
   "execution_count": 18,
   "metadata": {
    "collapsed": false
   },
   "outputs": [],
   "source": [
    "import cv2\n",
    "import matplotlib.pyplot as lt\n",
    "import sys\n",
    "\n",
    "# sys.path.insert(0,'../mercat_independencia/')\n",
    "\n",
    "img = cv2.imread('C:\\Users\\Jean\\Desktop\\UPC\\GDSA\\mercat_independencia\\IMG_3294.JPG', 1)\n"
   ]
  },
  {
   "cell_type": "code",
   "execution_count": 19,
   "metadata": {
    "collapsed": false
   },
   "outputs": [
    {
     "name": "stdout",
     "output_type": "stream",
     "text": [
      "[[[ 38  55  58]\n",
      "  [ 38  55  58]\n",
      "  [ 38  53  55]\n",
      "  ..., \n",
      "  [ 53  56  71]\n",
      "  [ 66  67  87]\n",
      "  [ 59  63  82]]\n",
      "\n",
      " [[ 39  54  57]\n",
      "  [ 42  57  60]\n",
      "  [ 31  46  48]\n",
      "  ..., \n",
      "  [ 62  64  82]\n",
      "  [ 78  85 102]\n",
      "  [ 68  75  92]]\n",
      "\n",
      " [[ 40  52  56]\n",
      "  [ 30  42  46]\n",
      "  [ 32  45  47]\n",
      "  ..., \n",
      "  [ 52  59  76]\n",
      "  [ 71  81  98]\n",
      "  [ 54  67  81]]\n",
      "\n",
      " ..., \n",
      " [[ 35  37  38]\n",
      "  [ 38  40  41]\n",
      "  [ 37  40  44]\n",
      "  ..., \n",
      "  [ 38  53  62]\n",
      "  [ 36  51  60]\n",
      "  [ 33  48  57]]\n",
      "\n",
      " [[ 36  37  41]\n",
      "  [ 39  40  44]\n",
      "  [ 39  42  46]\n",
      "  ..., \n",
      "  [ 41  53  65]\n",
      "  [ 38  52  64]\n",
      "  [ 37  51  63]]\n",
      "\n",
      " [[ 47  48  52]\n",
      "  [ 39  40  44]\n",
      "  [ 39  42  46]\n",
      "  ..., \n",
      "  [ 41  53  65]\n",
      "  [ 41  55  67]\n",
      "  [ 41  55  67]]]\n"
     ]
    }
   ],
   "source": [
    "print(img)"
   ]
  },
  {
   "cell_type": "code",
   "execution_count": null,
   "metadata": {
    "collapsed": true
   },
   "outputs": [],
   "source": []
  }
 ],
 "metadata": {
  "kernelspec": {
   "display_name": "Python 2",
   "language": "python",
   "name": "python2"
  },
  "language_info": {
   "codemirror_mode": {
    "name": "ipython",
    "version": 2
   },
   "file_extension": ".py",
   "mimetype": "text/x-python",
   "name": "python",
   "nbconvert_exporter": "python",
   "pygments_lexer": "ipython2",
   "version": "2.7.13"
  }
 },
 "nbformat": 4,
 "nbformat_minor": 2
}
