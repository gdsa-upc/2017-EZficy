{
 "cells": [
  {
   "cell_type": "code",
   "execution_count": 3,
   "metadata": {
    "collapsed": true
   },
   "outputs": [],
   "source": [
    "# Reads an image from disk and scales and crops to match a target resolution and aspect ratio.\n",
    "import os\n",
    "from scipy import misc\n",
    "\n",
    "# Specifies which is the largest size on any side of the picture. (Caters for portrait and landscape)\n",
    "FIXED_MAX_DIMENSION = 500.0\n",
    "\n",
    "# For each allocated class, save pictures in their containing class folder.\n",
    "for class_ in ['desconegut', 'mercat_independencia', 'mnactec']:\n",
    "    path = 'C:\\Users\\Jean\\Desktop\\UPC\\GDSA\\projecte\\1Equip\\pictures' + class_ + '/'\n",
    "    savedir = 'C:\\Users\\Jean\\Desktop\\UPC\\GDSA\\projecte\\1Equip\\resized' + class_ + '/'\n",
    "\n",
    "    # Create a list describing only the files inside a the specified path. (Omits filesystem folders and files)\n",
    "    flist = []\n",
    "    for (dirpath, dirnames, filenames) in os.walk(path):    # Crawl through directories,\n",
    "        flist.extend(filenames)                             # to find the full file paths.\n",
    "        break\n",
    "\n",
    "    for filename in flist:                                  # With each file's name,\n",
    "        pic = misc.imread(path + filename)                  # decode the file contents,\n",
    "        pic_resized = misc.imresize(pic, FIXED_MAX_DIMENSION / max(pic.shape), interp='nearest', mode=None) # scale,\n",
    "        misc.imsave(savedir + filename, pic_resized)        # and save into a new folder."
   ]
  },
  {
   "cell_type": "code",
   "execution_count": null,
   "metadata": {
    "collapsed": true
   },
   "outputs": [],
   "source": []
  }
 ],
 "metadata": {
  "kernelspec": {
   "display_name": "Python 2",
   "language": "python",
   "name": "python2"
  },
  "language_info": {
   "codemirror_mode": {
    "name": "ipython",
    "version": 2
   },
   "file_extension": ".py",
   "mimetype": "text/x-python",
   "name": "python",
   "nbconvert_exporter": "python",
   "pygments_lexer": "ipython2",
   "version": "2.7.13"
  }
 },
 "nbformat": 4,
 "nbformat_minor": 2
}
